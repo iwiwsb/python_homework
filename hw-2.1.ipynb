{
 "cells": [
  {
   "cell_type": "markdown",
   "metadata": {},
   "source": [
    "# Задание 1\n",
    "Дана переменная, в которой хранится слово из латинских букв. Напишите код,\n",
    "который выводит на экран:\n",
    "* среднюю букву, если число букв в слове нечётное;\n",
    "* две средних буквы, если число букв чётное.\n",
    "\n",
    "### Пример работы программы\n",
    "1. ```py\n",
    "    word = 'test' # Результат: es\n",
    "    ```\n",
    "2. ```py\n",
    "    word = 'testing' # Результат: t\n",
    "    ```\n",
    "### Решение:"
   ]
  },
  {
   "cell_type": "code",
   "execution_count": null,
   "metadata": {},
   "outputs": [],
   "source": [
    "word = \"test\"\n",
    "word_len = len(word)\n",
    "if word_len % 2 != 0:\n",
    "    middle_letter_idx = word_len // 2\n",
    "    print(word[middle_letter_idx])\n",
    "else:\n",
    "    left_middle_letter_idx = int(word_len / 2) - 1\n",
    "    right_middle_letter_idx = int(word_len / 2) + 1\n",
    "    print(word[left_middle_letter_idx:right_middle_letter_idx])"
   ]
  },
  {
   "cell_type": "markdown",
   "metadata": {},
   "source": [
    "# Задание 2\n",
    "Вы делаете MVP (минимально жизнеспособный продукт) dating-сервиса.\n",
    "У вас есть список юношей и девушек.\n",
    "Выдвигаем гипотезу: лучшие рекомендации получатся, если просто\n",
    "отсортировать имена по алфавиту и познакомить людей с одинаковыми\n",
    "индексами после сортировки. Но вы не будете никого знакомить, если кто-то\n",
    "может остаться без пары.\n",
    "### Примеры работы программы\n",
    "```python\n",
    "boys = ['Peter', 'Alex', 'John', 'Arthur', 'Richard']\n",
    "girls = ['Kate', 'Liza', 'Kira', 'Emma', 'Trisha']\n",
    "```\n",
    "**Результат:**\n",
    "```\n",
    "Идеальные пары:\n",
    "Alex и Emma\n",
    "Arthur и Kate\n",
    "John и Kira\n",
    "Peter и Liza\n",
    "Richard и Trisha\n",
    "```\n",
    "```python\n",
    "boys = ['Peter', 'Alex', 'John', 'Arthur', 'Richard', 'Michael']\n",
    "girls = ['Kate', 'Liza', 'Kira', 'Emma', 'Trisha']\n",
    "```\n",
    "**Результат:**\n",
    "```\n",
    "Внимание, кто-то может остаться без пары!\n",
    "```\n",
    "\n",
    "### Решение:"
   ]
  },
  {
   "cell_type": "code",
   "execution_count": null,
   "metadata": {},
   "outputs": [],
   "source": [
    "boys = ['Peter', 'Alex', 'John', 'Arthur', 'Richard']\n",
    "girls = ['Kate', 'Liza', 'Kira', 'Emma', 'Trisha']\n",
    "\n",
    "if len(boys) != len(girls):\n",
    "    print(\"Внимание, кто-то может остаться без пары!\")\n",
    "else:\n",
    "    boys.sort()\n",
    "    girls.sort()\n",
    "    print(\"Идеальные пары:\")\n",
    "    for (boy, girl) in zip(boys, girls):\n",
    "        print(f\"{boy} и {girl}\")"
   ]
  }
 ],
 "metadata": {
  "kernelspec": {
   "display_name": ".venv",
   "language": "python",
   "name": "python3"
  },
  "language_info": {
   "codemirror_mode": {
    "name": "ipython",
    "version": 3
   },
   "file_extension": ".py",
   "mimetype": "text/x-python",
   "name": "python",
   "nbconvert_exporter": "python",
   "pygments_lexer": "ipython3",
   "version": "3.13.0"
  }
 },
 "nbformat": 4,
 "nbformat_minor": 2
}
