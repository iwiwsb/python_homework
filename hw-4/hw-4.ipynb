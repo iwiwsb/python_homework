{
 "cells": [
  {
   "cell_type": "markdown",
   "metadata": {},
   "source": [
    "# Задание 1"
   ]
  },
  {
   "cell_type": "code",
   "execution_count": 30,
   "metadata": {},
   "outputs": [],
   "source": [
    "import json\n",
    "\n",
    "f = open(\"purchase_log.txt\", encoding=\"utf-8\")\n",
    "lines = f.readlines()\n",
    "purchase = {}\n",
    "for line in lines:\n",
    "    d = json.loads(line)\n",
    "    purchase[d[\"user_id\"]] = d[\"category\"]\n",
    "f.close()\n"
   ]
  },
  {
   "cell_type": "markdown",
   "metadata": {},
   "source": [
    "# Задание 2"
   ]
  },
  {
   "cell_type": "code",
   "execution_count": 31,
   "metadata": {},
   "outputs": [],
   "source": [
    "import csv\n",
    "\n",
    "with open(\"visit_log.csv\") as visit_log:\n",
    "    with open(\"funnel.csv\", \"w\", encoding=\"utf-8\", newline=\"\") as funnel_file:\n",
    "        visit_log_reader = csv.DictReader(visit_log)\n",
    "        funnel_writer = csv.DictWriter(funnel_file, fieldnames=[\"user_id\", \"source\", \"category\"])\n",
    "        funnel_writer.writeheader()\n",
    "        for row in visit_log_reader:\n",
    "            if row[\"user_id\"] in purchase:\n",
    "                funnel_writer.writerow({\"user_id\": row[\"user_id\"], \"source\": row[\"source\"], \"category\": purchase[row[\"user_id\"]]})\n"
   ]
  }
 ],
 "metadata": {
  "kernelspec": {
   "display_name": ".venv",
   "language": "python",
   "name": "python3"
  },
  "language_info": {
   "codemirror_mode": {
    "name": "ipython",
    "version": 3
   },
   "file_extension": ".py",
   "mimetype": "text/x-python",
   "name": "python",
   "nbconvert_exporter": "python",
   "pygments_lexer": "ipython3",
   "version": "3.13.0"
  }
 },
 "nbformat": 4,
 "nbformat_minor": 2
}
